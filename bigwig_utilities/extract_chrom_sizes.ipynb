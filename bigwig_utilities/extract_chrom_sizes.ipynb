{
 "cells": [
  {
   "cell_type": "code",
   "execution_count": 4,
   "metadata": {},
   "outputs": [],
   "source": [
    "import pyBigWig\n",
    "\n",
    "bw = pyBigWig.open(\"/home/hassett/ElongationNet/fix_bw/k562_epAllmerNeuralNetZeta.bw\")\n",
    "with open(\"chrom.sizes\", \"w\") as f:\n",
    "    for chrom, size in bw.chroms().items():\n",
    "        f.write(f\"{chrom}\\t{size}\\n\")\n",
    "bw.close()"
   ]
  }
 ],
 "metadata": {
  "kernelspec": {
   "display_name": "cnn-motif",
   "language": "python",
   "name": "python3"
  },
  "language_info": {
   "codemirror_mode": {
    "name": "ipython",
    "version": 3
   },
   "file_extension": ".py",
   "mimetype": "text/x-python",
   "name": "python",
   "nbconvert_exporter": "python",
   "pygments_lexer": "ipython3",
   "version": "3.8.17"
  }
 },
 "nbformat": 4,
 "nbformat_minor": 2
}
