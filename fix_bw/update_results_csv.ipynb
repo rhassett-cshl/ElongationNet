{
 "cells": [
  {
   "cell_type": "code",
   "execution_count": 1,
   "metadata": {},
   "outputs": [],
   "source": [
    "import pandas as pd"
   ]
  },
  {
   "cell_type": "code",
   "execution_count": 6,
   "metadata": {},
   "outputs": [],
   "source": [
    "df = pd.read_csv(f\"./results/cnn_performance_analysis_epft_cj/cnn_performance_analysis_epft_cj_results.csv\")"
   ]
  },
  {
   "cell_type": "code",
   "execution_count": 7,
   "metadata": {},
   "outputs": [
    {
     "name": "stdout",
     "output_type": "stream",
     "text": [
      "   Chr     Start       End  Strand           GeneId      X_ji       C_j  \\\n",
      "0    7  73442655  73442655       0  ENSG00000009954  0.000000  0.062101   \n",
      "1    7  73442656  73442656       0  ENSG00000009954  0.773948  0.062101   \n",
      "2    7  73442657  73442657       0  ENSG00000009954  0.000000  0.062101   \n",
      "3    7  73442658  73442658       0  ENSG00000009954  0.000000  0.062101   \n",
      "4    7  73442659  73442659       0  ENSG00000009954  0.000000  0.062101   \n",
      "\n",
      "   Predicted_Zeta  GLM_Combined_Zeta  GLM_Epft_Zeta  CNN_Loss  GLM_Loss  \n",
      "0        1.334451           1.160693       0.825879  0.046537  0.053504  \n",
      "1        0.446598           0.282427       0.826404  1.665967  1.392146  \n",
      "2        0.313498           0.392422       0.826920  0.198092  0.158252  \n",
      "3        0.340225           0.235081       0.827427  0.182531  0.264170  \n",
      "4        0.335922           0.283779       0.827924  0.184868  0.218837  \n"
     ]
    }
   ],
   "source": [
    "print(df.head())"
   ]
  },
  {
   "cell_type": "code",
   "execution_count": 8,
   "metadata": {},
   "outputs": [],
   "source": [
    "df['Predicted_Xji'] = df['C_j'] / df['Predicted_Zeta']\n",
    "df.rename(columns={'Chr': 'seqnames', 'Start': 'start', 'End': 'end', 'GeneId': 'ensembl_gene_id', 'Strand': 'strand'}, inplace=True)\n",
    "df = df.drop(['GLM_Combined_Zeta', 'GLM_Epft_Zeta', 'CNN_Loss', 'GLM_Loss', 'C_j', 'X_ji'], axis=1)"
   ]
  },
  {
   "cell_type": "code",
   "execution_count": 11,
   "metadata": {},
   "outputs": [
    {
     "name": "stdout",
     "output_type": "stream",
     "text": [
      "   Chr     Start       End  Strand           GeneId      X_ji       C_j  \\\n",
      "0    7  73442655  73442655       0  ENSG00000009954  0.000000  0.062101   \n",
      "1    7  73442656  73442656       0  ENSG00000009954  0.773948  0.062101   \n",
      "2    7  73442657  73442657       0  ENSG00000009954  0.000000  0.062101   \n",
      "3    7  73442658  73442658       0  ENSG00000009954  0.000000  0.062101   \n",
      "4    7  73442659  73442659       0  ENSG00000009954  0.000000  0.062101   \n",
      "\n",
      "   Predicted_Zeta  Predicted_Xji  \n",
      "0        1.334451       0.046537  \n",
      "1        0.446598       0.139055  \n",
      "2        0.313498       0.198092  \n",
      "3        0.340225       0.182531  \n",
      "4        0.335922       0.184868  \n"
     ]
    }
   ],
   "source": [
    "print(df.head())"
   ]
  },
  {
   "cell_type": "code",
   "execution_count": null,
   "metadata": {},
   "outputs": [],
   "source": [
    "df.to_csv(\"results/cnn_performance_analysis_epft_cj/cnn_results.csv\", index=False)"
   ]
  }
 ],
 "metadata": {
  "kernelspec": {
   "display_name": "cnn-motif",
   "language": "python",
   "name": "python3"
  },
  "language_info": {
   "codemirror_mode": {
    "name": "ipython",
    "version": 3
   },
   "file_extension": ".py",
   "mimetype": "text/x-python",
   "name": "python",
   "nbconvert_exporter": "python",
   "pygments_lexer": "ipython3",
   "version": "3.8.17"
  }
 },
 "nbformat": 4,
 "nbformat_minor": 2
}
