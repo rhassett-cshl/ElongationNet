{
 "cells": [
  {
   "cell_type": "code",
   "execution_count": 1,
   "metadata": {},
   "outputs": [],
   "source": [
    "import pickle\n",
    "\n",
    "def read_pickle(cell_type):\n",
    "    with open(f'./data/{cell_type}_datasets.pkl', 'rb') as file:\n",
    "        combined_datasets = pickle.load(file)\n",
    "        \n",
    "    train_data = combined_datasets['train']\n",
    "    valid_data = combined_datasets['valid']\n",
    "    test_data = combined_datasets['test']\n",
    "\n",
    "    print(train_data.iloc[0])\n",
    "    \n",
    "    return train_data, valid_data, test_data"
   ]
  },
  {
   "cell_type": "code",
   "execution_count": 2,
   "metadata": {},
   "outputs": [
    {
     "name": "stdout",
     "output_type": "stream",
     "text": [
      "seqnames                         1\n",
      "start                      1002760\n",
      "end                        1002760\n",
      "strand                           +\n",
      "ensembl_gene_id    ENSG00000187608\n",
      "score                          0.0\n",
      "ctcf                      -0.07771\n",
      "h4k20me1                 -0.429997\n",
      "h3k79me2                   -0.2804\n",
      "h3k4me1                  -0.217665\n",
      "h3k9me3                  -0.333359\n",
      "h3k36me3                 -0.801406\n",
      "sj5                      -0.039619\n",
      "sj3                      -0.059131\n",
      "rpts                     -0.187111\n",
      "wgbs                           0.0\n",
      "lambda_alphaj             0.026377\n",
      "zeta                      1.133344\n",
      "A                                0\n",
      "T                                0\n",
      "G                                1\n",
      "C                                0\n",
      "combined_zeta             1.020207\n",
      "dataset                      train\n",
      "Name: 0, dtype: object\n"
     ]
    }
   ],
   "source": [
    "df = read_pickle(\"k562\")"
   ]
  },
  {
   "cell_type": "code",
   "execution_count": 3,
   "metadata": {},
   "outputs": [
    {
     "name": "stdout",
     "output_type": "stream",
     "text": [
      "ensembl_gene_id\n",
      "ENSG00000000457     39529\n",
      "ENSG00000001036     12380\n",
      "ENSG00000001167     22287\n",
      "ENSG00000001497     17708\n",
      "ENSG00000001629    150916\n",
      "                    ...  \n",
      "ENSG00000276045     11633\n",
      "ENSG00000276293     29324\n",
      "ENSG00000277791      6984\n",
      "ENSG00000278053     29210\n",
      "ENSG00000278311     40387\n",
      "Length: 2547, dtype: int64\n"
     ]
    }
   ],
   "source": [
    "group_sizes = df[0].groupby('ensembl_gene_id').size()\n",
    "\n",
    "print(group_sizes)\n",
    "\n",
    "import pandas as pd\n",
    "\n",
    "group_sizes.to_csv(\"sizes.csv\", index=False)"
   ]
  },
  {
   "cell_type": "code",
   "execution_count": 4,
   "metadata": {},
   "outputs": [
    {
     "name": "stdout",
     "output_type": "stream",
     "text": [
      "979755\n",
      "6023\n"
     ]
    }
   ],
   "source": [
    "print(group_sizes.max())\n",
    "print(group_sizes.min())"
   ]
  }
 ],
 "metadata": {
  "kernelspec": {
   "display_name": "cnn-motif",
   "language": "python",
   "name": "python3"
  },
  "language_info": {
   "codemirror_mode": {
    "name": "ipython",
    "version": 3
   },
   "file_extension": ".py",
   "mimetype": "text/x-python",
   "name": "python",
   "nbconvert_exporter": "python",
   "pygments_lexer": "ipython3",
   "version": "3.8.17"
  }
 },
 "nbformat": 4,
 "nbformat_minor": 2
}
